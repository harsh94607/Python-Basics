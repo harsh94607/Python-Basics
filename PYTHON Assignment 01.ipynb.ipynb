{
 "cells": [
  {
   "cell_type": "markdown",
   "metadata": {},
   "source": [
    "## Question 1. In the below elements which of them are values or an expression? eg:- values can be integer or string and expressions will be mathematical operators.\n"
   ]
  },
  {
   "cell_type": "code",
   "execution_count": 5,
   "metadata": {},
   "outputs": [
    {
     "data": {
      "text/plain": [
       "'\\nANS\\n*     --  expression\\n‘VGU’ --  value\\n-89.5 --  value\\n-     --  expression\\n/     --  expression\\n+     --  expression\\n6     --  value\\n'"
      ]
     },
     "execution_count": 5,
     "metadata": {},
     "output_type": "execute_result"
    }
   ],
   "source": [
    "'''\n",
    "ANS\n",
    "*     --  expression\n",
    "‘VGU’ --  value\n",
    "-89.5 --  value\n",
    "-     --  expression\n",
    "/     --  expression\n",
    "+     --  expression\n",
    "6     --  value\n",
    "'''\n"
   ]
  },
  {
   "cell_type": "markdown",
   "metadata": {},
   "source": [
    "## Question 2. What is the difference between string and variable?"
   ]
  },
  {
   "cell_type": "code",
   "execution_count": 2,
   "metadata": {},
   "outputs": [
    {
     "name": "stdout",
     "output_type": "stream",
     "text": [
      "Hello, World!\n"
     ]
    }
   ],
   "source": [
    "'''ANS \n",
    "A string is a sequence of characters, such as letters, numbers, and symbols, that is used to represent text.\n",
    "In most programming languages, strings are enclosed in quotation marks, either single (' ') or double (\" \").\n",
    "A variable, on the other hand, is a name that represents a value in a program. Variables are used to store  \n",
    "and manipulate data in a program.\n",
    "The main difference between a string and a variable is that a string is a type of data, while a variable is\n",
    "a container that can hold different types of data, including strings. In other words, a variable can store a\n",
    "string, but a string cannot store a variable'''\n",
    "my_string = \"Hello, World!\"\n",
    "print(my_string)"
   ]
  },
  {
   "cell_type": "markdown",
   "metadata": {},
   "source": [
    "## Question 3. Describe three different data types"
   ]
  },
  {
   "cell_type": "code",
   "execution_count": null,
   "metadata": {},
   "outputs": [],
   "source": [
    "'''ANS\n",
    "Here are three different data types commonly used in programming:\n",
    "\n",
    "Integer: An integer is a whole number that can be positive, negative, or zero. In most programming languages, integers\n",
    "are represented as a data type, and they can be used in mathematical calculations, counting, and indexing. For example,\n",
    "in Python, the integer data type is denoted by the keyword \"int\", and an example of an integer value is 5.\n",
    "\n",
    "Boolean: A boolean is a data type that can have one of two values: true or false. Booleans are often used in conditional\n",
    "statements and logical operations. For example, in Java, the boolean data type is denoted by the keyword \"boolean\", and \n",
    "an example of a boolean value is true.\n",
    "\n",
    "String: A string is a sequence of characters that represents text. Strings are often used for storing and manipulating \n",
    "text-based data, such as names, addresses, and messages. In most programming languages, strings are represented as a \n",
    "data type, and they can be enclosed in quotation marks (either single or double). For example, in JavaScript, the \n",
    "string data type is denoted by the keyword \"string\", and an example of a string value is \"Hello, World!\".\n",
    "'''"
   ]
  },
  {
   "cell_type": "markdown",
   "metadata": {},
   "source": [
    "## Question 4. What is an expression made up of? What do all expressions do?"
   ]
  },
  {
   "cell_type": "code",
   "execution_count": 1,
   "metadata": {},
   "outputs": [
    {
     "data": {
      "text/plain": [
       "5"
      ]
     },
     "execution_count": 1,
     "metadata": {},
     "output_type": "execute_result"
    }
   ],
   "source": [
    "'''In Python, an expression is a combination of values, variables, operators, and function calls that evaluates\n",
    "to a single value. Expressions can be made up of a variety of components, including:\n",
    "\n",
    "Literals - fixed values like numbers or strings\n",
    "Variables - values that can change during execution\n",
    "Operators - symbols used to perform arithmetic or logical operations\n",
    "Function calls - a way to execute a block of code that performs a specific task\n",
    "For example, the following are all valid Python expressions:\n",
    "'''\n",
    "2 + 3\n",
    "x = 5\n",
    "\"Hello, \" + \"world!\"\n",
    "len(\"hello\")"
   ]
  },
  {
   "cell_type": "markdown",
   "metadata": {},
   "source": [
    "## Question 5. This assignment statements, like spam = 10. What is the difference between an expression and a statement?"
   ]
  },
  {
   "cell_type": "code",
   "execution_count": null,
   "metadata": {},
   "outputs": [],
   "source": [
    "'''In programming, expressions and statements are two fundamental concepts that are used to create programs.\n",
    "\n",
    "An expression is a combination of variables, literals, operators, and function calls that evaluates to a single value.\n",
    "For example, 2 + 3 is an expression that evaluates to 5. In Python, expressions are typically used as part of larger statements,\n",
    "such as assignment statements or conditional statements.\n",
    "\n",
    "On the other hand, a statement is a complete line of code that performs some action. In Python, statement examples include\n",
    "assignments, conditional statements, loops, and function calls. An example of a statement is the assignment statement spam = 10,\n",
    "which assigns the value 10 to the variable spam'''"
   ]
  },
  {
   "cell_type": "markdown",
   "metadata": {},
   "source": [
    "## Question 6. After running the following code, what does the variable bacon contain?\n",
    "### bacon = 22\n",
    "### bacon + 1"
   ]
  },
  {
   "cell_type": "code",
   "execution_count": null,
   "metadata": {},
   "outputs": [],
   "source": [
    "'''After running the following code:\n",
    "\n",
    "bacon = 22\n",
    "bacon + 1\n",
    "the variable bacon contains its original value of 22.\n",
    "\n",
    "The reason for this is that the expression bacon + 1 evaluates to 23, but the result of this expression \n",
    "is not assigned to any variable. So even though the expression is evaluated, the value of bacon remains unchanged.'''"
   ]
  },
  {
   "cell_type": "markdown",
   "metadata": {},
   "source": [
    "## Question 7. What should the values of the following two terms be?\n",
    "### 'spam' + 'spamspam'\n",
    "### 'spam' * 3\n"
   ]
  },
  {
   "cell_type": "code",
   "execution_count": 3,
   "metadata": {},
   "outputs": [
    {
     "data": {
      "text/plain": [
       "\" The values of the following two terms are:\\n\\n1. 'spam' + 'spamspam' will evaluate to the string 'spamspamspam'.\\nThis is because the + operator will merge the two strings together to create a new string\\nthat contains the characters from both operands in the order they were specified.\\n\\n2. 'spam' * 3 will evaluate to the string 'spamspamspam'.\\nThis is because the * operator repeats the string operand on the left-hand side\""
      ]
     },
     "execution_count": 3,
     "metadata": {},
     "output_type": "execute_result"
    }
   ],
   "source": [
    "''' The values of the following two terms are:\n",
    "\n",
    "1. 'spam' + 'spamspam' will evaluate to the string 'spamspamspam'.\n",
    "This is because the + operator will merge the two strings together to create a new string\n",
    "that contains the characters from both operands in the order they were specified.\n",
    "\n",
    "2. 'spam' * 3 will evaluate to the string 'spamspamspam'.\n",
    "This is because the * operator repeats the string operand on the left-hand side'''"
   ]
  },
  {
   "cell_type": "markdown",
   "metadata": {},
   "source": [
    "##  Question 8. Why dorito is a valid variable name while 78 is invalid?"
   ]
  },
  {
   "cell_type": "code",
   "execution_count": 4,
   "metadata": {},
   "outputs": [
    {
     "data": {
      "text/plain": [
       "'In Python, variable names must follow certain rules to be considered valid. One of the\\nmain rules is that variable names cannot start with a number. This means that 78 is an invalid\\nvariable name,\\nbut dorito is a valid variable name.'"
      ]
     },
     "execution_count": 4,
     "metadata": {},
     "output_type": "execute_result"
    }
   ],
   "source": [
    "'''In Python, variable names must follow certain rules to be considered valid. One of the\n",
    "main rules is that variable names cannot start with a number. This means that 78 is an invalid\n",
    "variable name,\n",
    "but dorito is a valid variable name.'''"
   ]
  },
  {
   "cell_type": "markdown",
   "metadata": {},
   "source": [
    "## Question 9. What three functions can be used to get the integer, floating-point number, or string version of a value?"
   ]
  },
  {
   "cell_type": "code",
   "execution_count": null,
   "metadata": {},
   "outputs": [],
   "source": [
    "'''int(): This function can be used to convert a value into an integer. It takes a single argument and returns an integer\n",
    "representation of that argument. If the argument is a floating-point number, it will be truncated towards zero.\n",
    "\n",
    "float(): This function can be used to convert a value into a floating-point number. It takes a single argument and returns\n",
    "a floating-point representation of that argument. If the argument is an integer, it will be converted into a floating-point\n",
    "number.\n",
    "\n",
    "str(): This function can be used to convert a value into a string. It takes a single argument and returns a string \n",
    "representation of that argument. If the argument is an integer or a floating-point number, it will be converted into a string.'''"
   ]
  },
  {
   "cell_type": "markdown",
   "metadata": {},
   "source": [
    "## Question 10. Why does this expression cause an error? How can you fix it?\n",
    "### 'I have eaten ' + 99 + ' burritos.'"
   ]
  },
  {
   "cell_type": "code",
   "execution_count": null,
   "metadata": {},
   "outputs": [],
   "source": [
    "'''The expression 'I have eaten ' + 99 + ' burritos.' causes an error because it is attempting to concatenate\n",
    "a string ('I have eaten ') with an integer (99) without first converting the integer to a string. \n",
    "\n",
    "\n",
    "To fix the error,\n",
    "you can convert the integer to a string using the str() function before concatenating it \n",
    "with the other strings. Here's the corrected expression:\n",
    "\n",
    "'I have eaten ' + str(99) + ' burritos.'''"
   ]
  },
  {
   "cell_type": "markdown",
   "metadata": {},
   "source": [
    "## Question 11. Write code that prints Hello if 1 is stored in spam, prints Howdy if 2 is stored in spam, and prints \n",
    "## Greetings! if anything else is stored in spam."
   ]
  },
  {
   "cell_type": "code",
   "execution_count": null,
   "metadata": {},
   "outputs": [],
   "source": [
    "spam = int(input(\"enter value of spam\"))\n",
    "if spam == 1:\n",
    "    print(\"Hello\")\n",
    "elif spam == 2:\n",
    "    print(\"Howdy\")\n",
    "else:\n",
    "    print(\"Greetings!\")\n"
   ]
  },
  {
   "cell_type": "markdown",
   "metadata": {},
   "source": [
    "## Question 12. If your programme is stuck in an endless loop, what keys you’ll press?"
   ]
  },
  {
   "cell_type": "code",
   "execution_count": null,
   "metadata": {},
   "outputs": [],
   "source": [
    "''' Ctrl and C'''"
   ]
  },
  {
   "cell_type": "markdown",
   "metadata": {},
   "source": [
    "## Question 13. How can you tell the difference between break and continue?"
   ]
  },
  {
   "cell_type": "code",
   "execution_count": null,
   "metadata": {},
   "outputs": [],
   "source": [
    "'''break is used to exit out of a loop completely, skipping any remaining iterations.\n",
    "Once a break statement is encountered in a loop, the program immediately exits the loop \n",
    "and continues with the statement following the loop.'''\n",
    "for i in range(1, 6):\n",
    "    if i == 3:\n",
    "        break\n",
    "    print(i)\n",
    "'''continue, on the other hand, is used to skip the current iteration of a loop and move \n",
    "on to the next iteration. Once a continue statement is encountered in a loop, the program \n",
    "jumps back to the top of the loop and continues with the next iteration.'''\n",
    "for i in range(1, 6):\n",
    "    if i == 3:\n",
    "        continue\n",
    "    print(i)\n"
   ]
  },
  {
   "cell_type": "markdown",
   "metadata": {},
   "source": [
    "## Question 14. In a for loop, what is the difference between range(10), range(0, 10), and range(0, 10, 1)?\n"
   ]
  },
  {
   "cell_type": "code",
   "execution_count": null,
   "metadata": {},
   "outputs": [],
   "source": [
    "'''In a for loop, range(10), range(0, 10), and range(0, 10, 1) all produce the same sequence of numbers. \n",
    "The only difference between them is in how the arguments are specified.\n",
    "\n",
    "range(10) produces a sequence of numbers starting from 0 and ending at 9 (10 numbers in total), \n",
    "with a default step size of 1. This is equivalent to range(0, 10, 1).\n",
    "range(0, 10, 1) produces a sequence of numbers starting from 0 and ending at 9 (10 numbers in total)\n",
    ", with a step size of 1. This is equivalent to range(10) and range(0, 10)'''"
   ]
  },
  {
   "cell_type": "markdown",
   "metadata": {},
   "source": [
    " ## Question 15. Write a short program that prints the numbers 1 to 10 using a for loop. Then write an equivalent program that prints the numbers 1 to 10 using a while loop."
   ]
  },
  {
   "cell_type": "code",
   "execution_count": null,
   "metadata": {},
   "outputs": [],
   "source": [
    "'''Here's a short program that prints the numbers 1 to 10 using a for loop:\n",
    "\n",
    "for i in range(1, 11):\n",
    "    print(i)\n",
    "\n",
    "    \n",
    "And here's an equivalent program that prints the numbers 1 to 10 using a while loop:\n",
    "\n",
    "\n",
    "i = 1\n",
    "while i <= 10:\n",
    "    print(i)\n",
    "    i += 1\n",
    "'''"
   ]
  },
  {
   "cell_type": "markdown",
   "metadata": {},
   "source": [
    " ## Question 16. If you had a function named bacon() inside a module named spam, how would you call it after importing spam? What statement creates a function?"
   ]
  },
  {
   "cell_type": "code",
   "execution_count": null,
   "metadata": {},
   "outputs": [],
   "source": [
    "import spam\n",
    "\n",
    "spam.bacon()\n",
    "\n",
    "'''Here, we first import the spam module using the import statement, and then call the bacon()\n",
    "function inside the spam module using the dot notation spam.bacon().'''\n",
    "''' a function is created using the def statement'''\n",
    "\n",
    "def add_numbers(x, y):\n",
    "    return x + y\n"
   ]
  },
  {
   "cell_type": "markdown",
   "metadata": {},
   "source": [
    "## Question 17. What is the difference between a function and a function call?"
   ]
  },
  {
   "cell_type": "code",
   "execution_count": null,
   "metadata": {},
   "outputs": [],
   "source": [
    "'''A function is a block of organized, reusable code that performs a specific task.\n",
    "It can be thought of as a subprogram that can be called from within a program.\n",
    "A function in Python is created using the def statement followed by the function \n",
    "name and the function body.'''\n",
    "'''A function call, on the other hand, is the act of invoking or executing a function in a program.\n",
    "It passes control and data to the function, and the function then executes the task it is designed to do'''\n",
    "# Define a function\n",
    "def greet(name):\n",
    "    print(\"Hello, \" + name + \"!\")\n",
    "\n",
    "# Call the function\n",
    "greet(\"John\")\n"
   ]
  },
  {
   "cell_type": "markdown",
   "metadata": {},
   "source": [
    "## Question 18. How many global scopes are there in a Python program? How many local scopes?\n"
   ]
  },
  {
   "cell_type": "code",
   "execution_count": null,
   "metadata": {},
   "outputs": [],
   "source": [
    "'''In a Python program, there is only one global scope, which is created when the program starts executing. \n",
    "Any variables, functions, or classes defined at the top level of a Python program are created in the global scope.\n",
    "\n",
    "However, local scopes can be created inside functions or classes. Each function call creates a new local scope, \n",
    "which is destroyed when the function returns. Similarly, each method call on an object creates a new local scope \n",
    "for the method.\n",
    "\n",
    "So the number of local scopes in a Python program depends on how many functions or methods are defined and how many \n",
    "times they are called during the execution of the program. In general, there can be many local scopes in a Python program,\n",
    "but there is only one global scope.'''"
   ]
  },
  {
   "cell_type": "markdown",
   "metadata": {},
   "source": [
    "## Question 19. What happens to variables in a local scope when the function call returns?"
   ]
  },
  {
   "cell_type": "code",
   "execution_count": null,
   "metadata": {},
   "outputs": [],
   "source": [
    "'''When a function call returns, the local scope of the function is destroyed, and all the variables defined in that scope \n",
    "are also destroyed. The values of those variables are lost and cannot be accessed outside of the function.'''"
   ]
  },
  {
   "cell_type": "markdown",
   "metadata": {},
   "source": [
    "## Question 20. What is the concept of a return value? Is it possible to have a return value in an expression?"
   ]
  },
  {
   "cell_type": "code",
   "execution_count": null,
   "metadata": {},
   "outputs": [],
   "source": [
    "'''A return value is the value that a function or method returns to the caller when it completes its execution.\n",
    "It is the result of the function's computation, and it can be used by the caller in further processing or passed \n",
    "to other functions.\n",
    "\n",
    "In Python, a function can return a value using the return statement. The return statement specifies the value \n",
    "to be returned from the function, and it can be followed by an expression that computes the value. If the return\n",
    "statement is not followed by an expression, the function returns None by default.'''"
   ]
  },
  {
   "cell_type": "markdown",
   "metadata": {},
   "source": [
    "## Question 21. If a function does not have a return statement, what is the return value of a call to that function?"
   ]
  },
  {
   "cell_type": "code",
   "execution_count": null,
   "metadata": {},
   "outputs": [],
   "source": [
    "'''If a function does not have a return statement, the function implicitly returns None by default. None '''"
   ]
  },
  {
   "cell_type": "markdown",
   "metadata": {},
   "source": [
    "## Question 22. How do you make a function variable refer to the global variable?\n"
   ]
  },
  {
   "cell_type": "code",
   "execution_count": null,
   "metadata": {},
   "outputs": [],
   "source": [
    "x = 10  # Global variable\n",
    "\n",
    "def func():\n",
    "    global x  # Use the global variable x inside the function\n",
    "    x = 20   # Modify the global variable x\n",
    "\n",
    "func()\n",
    "\n",
    "print(x)  # This will print 20\n"
   ]
  },
  {
   "cell_type": "markdown",
   "metadata": {},
   "source": [
    "## Question 23. What is the data type of None?"
   ]
  },
  {
   "cell_type": "code",
   "execution_count": null,
   "metadata": {},
   "outputs": [],
   "source": [
    "'''Python, None is a built-in constant that represents the absence of a value or the null value. It\n",
    "is a special value that has its own unique data type, which is also called None.'''\n"
   ]
  },
  {
   "cell_type": "markdown",
   "metadata": {},
   "source": [
    "## Question 24. What does the sentence import areallyourpetsnamederic do?"
   ]
  },
  {
   "cell_type": "code",
   "execution_count": null,
   "metadata": {},
   "outputs": [],
   "source": [
    "'''this statement tries to import a module named areallyourpetsnamederic,\n",
    "which does not exist in the Python standard library or any third-party libraries'''"
   ]
  },
  {
   "cell_type": "markdown",
   "metadata": {},
   "source": [
    "## Question 25. If you had a bacon() feature in a spam module, what would you call it after importing spam?"
   ]
  },
  {
   "cell_type": "code",
   "execution_count": null,
   "metadata": {},
   "outputs": [],
   "source": [
    "import spam\n",
    "\n",
    "spam.bacon()\n"
   ]
  },
  {
   "cell_type": "markdown",
   "metadata": {},
   "source": [
    "## Question 26. What can you do to save a programme from crashing if it encounters an error?"
   ]
  },
  {
   "cell_type": "code",
   "execution_count": null,
   "metadata": {},
   "outputs": [],
   "source": [
    "'''In Python, you can use exception handling to save a program from crashing when \n",
    "it encounters an error. Exception handling allows you to catch and handle errors\n",
    "in a controlled manner,so that the program can continue running even if an error occurs.'''\n",
    "\n",
    "try:\n",
    "    x = 1/0\n",
    "except ZeroDivisionError:\n",
    "    print(\"Cannot divide by zero\")\n",
    "finally:\n",
    "    print(\"Done\")\n"
   ]
  },
  {
   "cell_type": "markdown",
   "metadata": {},
   "source": [
    "## Question 27. What is the purpose of the try clause? What is the purpose of the except clause?"
   ]
  },
  {
   "cell_type": "code",
   "execution_count": null,
   "metadata": {},
   "outputs": [],
   "source": [
    "'''The try and except clauses are used for exception handling in Python.\n",
    "\n",
    "The try clause is used to define a block of code that may raise an exception. If an exception is\n",
    "raised inside the try block, Python jumps to the except block and tries to handle the exception in\n",
    "a controlled way. The purpose of the try block is to define the code that needs to be monitored for exceptions.\n",
    "\n",
    "The except clause is used to define the code that should be executed if an exception is raised inside \n",
    "the try block. The purpose of the except block is to handle the exception in a controlled way.\n",
    "You can use the except block to log an error message, display a helpful message to the user, or\n",
    "take any other action that you think is appropriate for handling the exception.'''\n",
    "try:\n",
    "    x = 1/0\n",
    "except ZeroDivisionError:\n",
    "    print(\"Cannot divide by zero\")\n"
   ]
  },
  {
   "cell_type": "markdown",
   "metadata": {},
   "source": [
    "## Question 28. What exactly is []?\n"
   ]
  },
  {
   "cell_type": "code",
   "execution_count": null,
   "metadata": {},
   "outputs": [],
   "source": [
    "'''In Python, [] represents an empty list. It is a built-in data type in\n",
    "Python used to store a collection of items, such as numbers, strings, or other objects.'''"
   ]
  },
  {
   "cell_type": "markdown",
   "metadata": {},
   "source": [
    "## Question 29. In a list of values stored in a variable called spam, how would you assign the value 'hello' as the third value? (Assume [2, 4, 6, 8, 10] are in spam.)\n"
   ]
  },
  {
   "cell_type": "code",
   "execution_count": null,
   "metadata": {},
   "outputs": [],
   "source": [
    "spam = [2, 4, 6, 8, 10]\n",
    "spam[2] = 'hello'\n",
    "print(spam)"
   ]
  },
  {
   "cell_type": "markdown",
   "metadata": {},
   "source": [
    "## Question 30. Let's pretend the spam includes the list ['a', 'b', 'c', 'd'] for the next three queries."
   ]
  },
  {
   "cell_type": "code",
   "execution_count": null,
   "metadata": {},
   "outputs": [],
   "source": []
  },
  {
   "cell_type": "code",
   "execution_count": null,
   "metadata": {},
   "outputs": [],
   "source": []
  }
 ],
 "metadata": {
  "kernelspec": {
   "display_name": "Python 3 (ipykernel)",
   "language": "python",
   "name": "python3"
  },
  "language_info": {
   "codemirror_mode": {
    "name": "ipython",
    "version": 3
   },
   "file_extension": ".py",
   "mimetype": "text/x-python",
   "name": "python",
   "nbconvert_exporter": "python",
   "pygments_lexer": "ipython3",
   "version": "3.10.9"
  }
 },
 "nbformat": 4,
 "nbformat_minor": 4
}
